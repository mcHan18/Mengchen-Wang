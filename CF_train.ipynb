{
  "nbformat": 4,
  "nbformat_minor": 0,
  "metadata": {
    "colab": {
      "name": "CF_train.ipynb",
      "provenance": [],
      "collapsed_sections": [],
      "authorship_tag": "ABX9TyOXBPtQiTTyYti1G4H/au4L",
      "include_colab_link": true
    },
    "kernelspec": {
      "name": "python3",
      "display_name": "Python 3"
    }
  },
  "cells": [
    {
      "cell_type": "markdown",
      "metadata": {
        "id": "view-in-github",
        "colab_type": "text"
      },
      "source": [
        "<a href=\"https://colab.research.google.com/github/mcHan18/Mengchen-Wang/blob/master/CF_train.ipynb\" target=\"_parent\"><img src=\"https://colab.research.google.com/assets/colab-badge.svg\" alt=\"Open In Colab\"/></a>"
      ]
    },
    {
      "cell_type": "markdown",
      "metadata": {
        "id": "doTKyVxbtVxl"
      },
      "source": [
        "**一、计算欧氏距离**"
      ]
    },
    {
      "cell_type": "code",
      "metadata": {
        "id": "KPV_smqPskfi"
      },
      "source": [
        "def OsDistance(vector1, vector2):\r\n",
        "    sqDiffVector = vector1-vector2\r\n",
        "    sqDiffVector=sqDiffVector**2\r\n",
        "    sqDistances = sqDiffVector.sum()\r\n",
        "    distance = sqDistances**0.5\r\n",
        "    return distance"
      ],
      "execution_count": null,
      "outputs": []
    }
  ]
}